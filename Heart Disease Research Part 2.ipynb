{
 "cells": [
  {
   "cell_type": "markdown",
   "id": "a7e77165",
   "metadata": {},
   "source": [
    "# Heart Disease Research Part II \n",
    "\n",
    "Data `heart_disease.csv` contains the following variables:\n",
    "\n",
    "- __age__: age in years\n",
    "- __sex__: sex assigned at birth; 'male' or 'female'\n",
    "- __trestbps__: resting blood pressure in mm Hg\n",
    "- __chol__: serum cholesterol in mg/dl\n",
    "- __cp__: chest pain type ('typical angina', 'atypical angina', 'non-anginal pain', or 'asymptomatic')\n",
    "- __exang__: whether the patient experiences exercise-induced angina (1: yes; 0: no)\n",
    "- __fbs__: whether the patient’s fasting blood sugar is >120 mg/dl (1: yes; 0: no)\n",
    "- __thalach__: maximum heart rate achieved in exercise test\n",
    "- __heart_disease__: whether the patient is found to have heart disease ('presence': diagnosed with heart disease; 'absence': no heart disease)"
   ]
  },
  {
   "cell_type": "markdown",
   "id": "58c368d9",
   "metadata": {},
   "source": [
    "Import modules"
   ]
  },
  {
   "cell_type": "code",
   "execution_count": 2,
   "id": "69246b03",
   "metadata": {},
   "outputs": [],
   "source": [
    "# import libraries\n",
    "import pandas as pd\n",
    "import numpy as np\n",
    "import matplotlib.pyplot as plt \n",
    "import seaborn as sns\n",
    "from scipy.stats import ttest_ind\n",
    "from scipy.stats import f_oneway\n",
    "from statsmodels.stats.multicomp import pairwise_tukeyhsd\n",
    "from scipy.stats import chi2_contingency"
   ]
  },
  {
   "cell_type": "markdown",
   "id": "b3a2aeea",
   "metadata": {},
   "source": [
    "Load a dataframe named `heart` from `heart_disease.csv`"
   ]
  },
  {
   "cell_type": "code",
   "execution_count": 3,
   "id": "fe11da03",
   "metadata": {},
   "outputs": [],
   "source": [
    "# load data\n",
    "heart = pd.read_csv('heart_disease.csv')"
   ]
  },
  {
   "cell_type": "markdown",
   "id": "c5f4daa8",
   "metadata": {},
   "source": [
    "Inspect the first few rows of data using the `.head()` method."
   ]
  },
  {
   "cell_type": "code",
   "execution_count": 4,
   "id": "7f656c75",
   "metadata": {},
   "outputs": [
    {
     "data": {
      "text/html": [
       "<div>\n",
       "<style scoped>\n",
       "    .dataframe tbody tr th:only-of-type {\n",
       "        vertical-align: middle;\n",
       "    }\n",
       "\n",
       "    .dataframe tbody tr th {\n",
       "        vertical-align: top;\n",
       "    }\n",
       "\n",
       "    .dataframe thead th {\n",
       "        text-align: right;\n",
       "    }\n",
       "</style>\n",
       "<table border=\"1\" class=\"dataframe\">\n",
       "  <thead>\n",
       "    <tr style=\"text-align: right;\">\n",
       "      <th></th>\n",
       "      <th>age</th>\n",
       "      <th>sex</th>\n",
       "      <th>trestbps</th>\n",
       "      <th>chol</th>\n",
       "      <th>cp</th>\n",
       "      <th>exang</th>\n",
       "      <th>fbs</th>\n",
       "      <th>thalach</th>\n",
       "      <th>heart_disease</th>\n",
       "    </tr>\n",
       "  </thead>\n",
       "  <tbody>\n",
       "    <tr>\n",
       "      <th>0</th>\n",
       "      <td>63.0</td>\n",
       "      <td>male</td>\n",
       "      <td>145.0</td>\n",
       "      <td>233.0</td>\n",
       "      <td>typical angina</td>\n",
       "      <td>0.0</td>\n",
       "      <td>1.0</td>\n",
       "      <td>150.0</td>\n",
       "      <td>absence</td>\n",
       "    </tr>\n",
       "    <tr>\n",
       "      <th>1</th>\n",
       "      <td>67.0</td>\n",
       "      <td>male</td>\n",
       "      <td>160.0</td>\n",
       "      <td>286.0</td>\n",
       "      <td>asymptomatic</td>\n",
       "      <td>1.0</td>\n",
       "      <td>0.0</td>\n",
       "      <td>108.0</td>\n",
       "      <td>presence</td>\n",
       "    </tr>\n",
       "    <tr>\n",
       "      <th>2</th>\n",
       "      <td>67.0</td>\n",
       "      <td>male</td>\n",
       "      <td>120.0</td>\n",
       "      <td>229.0</td>\n",
       "      <td>asymptomatic</td>\n",
       "      <td>1.0</td>\n",
       "      <td>0.0</td>\n",
       "      <td>129.0</td>\n",
       "      <td>presence</td>\n",
       "    </tr>\n",
       "    <tr>\n",
       "      <th>3</th>\n",
       "      <td>37.0</td>\n",
       "      <td>male</td>\n",
       "      <td>130.0</td>\n",
       "      <td>250.0</td>\n",
       "      <td>non-anginal pain</td>\n",
       "      <td>0.0</td>\n",
       "      <td>0.0</td>\n",
       "      <td>187.0</td>\n",
       "      <td>absence</td>\n",
       "    </tr>\n",
       "    <tr>\n",
       "      <th>4</th>\n",
       "      <td>41.0</td>\n",
       "      <td>female</td>\n",
       "      <td>130.0</td>\n",
       "      <td>204.0</td>\n",
       "      <td>atypical angina</td>\n",
       "      <td>0.0</td>\n",
       "      <td>0.0</td>\n",
       "      <td>172.0</td>\n",
       "      <td>absence</td>\n",
       "    </tr>\n",
       "  </tbody>\n",
       "</table>\n",
       "</div>"
      ],
      "text/plain": [
       "    age     sex  trestbps   chol                cp  exang  fbs  thalach  \\\n",
       "0  63.0    male     145.0  233.0    typical angina    0.0  1.0    150.0   \n",
       "1  67.0    male     160.0  286.0      asymptomatic    1.0  0.0    108.0   \n",
       "2  67.0    male     120.0  229.0      asymptomatic    1.0  0.0    129.0   \n",
       "3  37.0    male     130.0  250.0  non-anginal pain    0.0  0.0    187.0   \n",
       "4  41.0  female     130.0  204.0   atypical angina    0.0  0.0    172.0   \n",
       "\n",
       "  heart_disease  \n",
       "0       absence  \n",
       "1      presence  \n",
       "2      presence  \n",
       "3       absence  \n",
       "4       absence  "
      ]
     },
     "execution_count": 4,
     "metadata": {},
     "output_type": "execute_result"
    }
   ],
   "source": [
    "heart.head()"
   ]
  },
  {
   "cell_type": "markdown",
   "id": "5d02fa62",
   "metadata": {},
   "source": [
    "Each of the patients in this dataset underwent an exercise test, during which their heart rate was monitored. For each patient, `thalach` gives us the highest heart rate that the patient achieved during this test.\n",
    "\n",
    "Is `thalach` associated with whether or not a patient will ultimately be diagnosed with heart disease? Use `sns.boxplot()` to plot side by side box plots of `thalach` for patients who were and were not diagnosed with heart disease (indicated by the `heart_disease` variable). Do you think there is a relationship between these variables?"
   ]
  },
  {
   "cell_type": "code",
   "execution_count": 8,
   "id": "59b59ca6",
   "metadata": {},
   "outputs": [
    {
     "data": {
      "image/png": "[encoded data removed]",
      "text/plain": [
       "<Figure size 640x480 with 1 Axes>"
      ]
     },
     "metadata": {},
     "output_type": "display_data"
    }
   ],
   "source": [
    "sns.boxplot(x = heart.heart_disease, y = heart.thalach)\n",
    "plt.show()"
   ]
  },
  {
   "cell_type": "markdown",
   "id": "146fce14",
   "metadata": {},
   "source": [
    "In order to investigate this question further, save the values for `thalach` among patients who were diagnosed with heart disease as a variable named `thalach_hd`. Then save the values of `thalach` among patients who were not diagnosed with heart disease as `thalach_no_hd`."
   ]
  },
  {
   "cell_type": "code",
   "execution_count": 9,
   "id": "b8fa39f0",
   "metadata": {},
   "outputs": [],
   "source": [
    "thalach_hd = heart.thalach[heart.heart_disease == 'presence']\n",
    "thalach_no_hd = heart.thalach[heart.heart_disease == 'absence']"
   ]
  },
  {
   "cell_type": "markdown",
   "id": "a93d82e2",
   "metadata": {},
   "source": [
    "Calculate and print the difference in mean `thalach` for patients diagnosed with heart disease compared to patients without heart disease. Then do the same for the median difference."
   ]
  },
  {
   "cell_type": "code",
   "execution_count": 13,
   "id": "dc266c80",
   "metadata": {},
   "outputs": [
    {
     "name": "stdout",
     "output_type": "stream",
     "text": [
      "Mean difference thalach: 19.11905597473242\n",
      "Median difference thalach: 19.0\n"
     ]
    }
   ],
   "source": [
    "mean_diff_thalach = np.mean(thalach_no_hd) - np.mean(thalach_hd)\n",
    "median_diff_thalach = np.median(thalach_no_hd) - np.median(thalach_hd)\n",
    "print(\"Mean difference thalach: \" + str(mean_diff_thalach))\n",
    "print(\"Median difference thalach: \" + str(median_diff_thalach))"
   ]
  },
  {
   "cell_type": "markdown",
   "id": "cdb4a7b0",
   "metadata": {},
   "source": [
    "We’d like to find out if the average `thalach` of a heart disease patient is significantly different from the average `thalach` for a person without heart disease.\n",
    "\n",
    "- __Null__: The average `thalach` for a person with heart disease is equal to the average `thalach` for a person without heart disease.\n",
    "- __Alternative__: The average `thalach` for a person with heart disease is __NOT__ equal to the average `thalach` for a person without heart disease."
   ]
  },
  {
   "cell_type": "markdown",
   "id": "b4ae26c2",
   "metadata": {},
   "source": [
    "Run the hypothesis test and print out the p-value. Using a significance threshold of 0.05, is there a significant difference in average `thalach` for people with heart disease compared to people with no heart disease?"
   ]
  },
  {
   "cell_type": "code",
   "execution_count": 26,
   "id": "13fd5f40",
   "metadata": {},
   "outputs": [
    {
     "name": "stdout",
     "output_type": "stream",
     "text": [
      "P-value is 3.456964908430172e-14\n"
     ]
    }
   ],
   "source": [
    "tstat, pval = ttest_ind(thalach_hd,thalach_no_hd)\n",
    "print(\"P-value is \" + str(pval))"
   ]
  },
  {
   "cell_type": "markdown",
   "id": "7dc6d1f4",
   "metadata": {},
   "source": [
    "There is a significant difference in average `thalach` for people with heart disease compared to people with no heart disease."
   ]
  },
  {
   "cell_type": "markdown",
   "id": "082ff5b2",
   "metadata": {},
   "source": [
    "Using the same process, investigate at least one other quantitative variable. Options include `age`, `trestbps` (resting blood pressure), and `chol` (cholesterol). Are any of these variables also significantly associated with heart disease?"
   ]
  },
  {
   "cell_type": "markdown",
   "id": "f007ee58",
   "metadata": {},
   "source": [
    "Investigate the association between `age` and `heart disease`"
   ]
  },
  {
   "cell_type": "code",
   "execution_count": 18,
   "id": "8e3dd1f7",
   "metadata": {},
   "outputs": [
    {
     "data": {
      "image/png": "[encoded data removed]",
      "text/plain": [
       "<Figure size 640x480 with 1 Axes>"
      ]
     },
     "metadata": {},
     "output_type": "display_data"
    }
   ],
   "source": [
    "sns.boxplot(x=heart.heart_disease, y=heart.age)\n",
    "plt.show()"
   ]
  },
  {
   "cell_type": "code",
   "execution_count": 20,
   "id": "34aa63ef",
   "metadata": {},
   "outputs": [
    {
     "name": "stdout",
     "output_type": "stream",
     "text": [
      "Age mean difference: 4.040533426917001\n",
      "Age median difference: 6.0\n"
     ]
    }
   ],
   "source": [
    "age_hd = heart.age[heart.heart_disease == 'presence']\n",
    "age_no_hd = heart.age[heart.heart_disease == 'absence']\n",
    "\n",
    "age_mean_diff = np.mean(age_hd) - np.mean(age_no_hd)\n",
    "age_median_diff = np.median(age_hd) - np.median(age_no_hd)\n",
    "print(\"Age mean difference: \" + str(age_mean_diff))\n",
    "print(\"Age median difference: \" + str(age_median_diff))"
   ]
  },
  {
   "cell_type": "markdown",
   "id": "638b76f9",
   "metadata": {},
   "source": [
    "Hypothesis testing:\n",
    "Null: People with typical angina, non-anginal pain, atypical angina, and asymptomatic people all have the same average thalach.\n",
    "Alternative: People with typical angina, non-anginal pain, atypical angina, and asymptomatic people do not all have the same average thalach."
   ]
  },
  {
   "cell_type": "code",
   "execution_count": 25,
   "id": "3dd96f1c",
   "metadata": {},
   "outputs": [
    {
     "name": "stdout",
     "output_type": "stream",
     "text": [
      "P-value is 8.955636917529706e-05\n"
     ]
    }
   ],
   "source": [
    "tstat, pval = ttest_ind(age_hd, age_no_hd)\n",
    "print(\"P-value is \" + str(pval))"
   ]
  },
  {
   "cell_type": "markdown",
   "id": "5fd57b4d",
   "metadata": {},
   "source": [
    "There is a __significant__ difference in average `age` for people with heart disease compared to people with no heart disease."
   ]
  },
  {
   "cell_type": "markdown",
   "id": "5443c35d",
   "metadata": {},
   "source": [
    "### Investigate the association between `trestbps` and `heart disease`\n",
    "\n",
    "\n",
    "__Hypothesis testing:__\n",
    "- __Null:__ The average `trestbps` of people with heart disease is __equal__ to the average `trestbps` of people without heart disease.\n",
    "- __Alternative:__ The average `trestbps` of people with heart disease is __different__ than the average `trestbps` of people without heart disease.."
   ]
  },
  {
   "cell_type": "code",
   "execution_count": 5,
   "id": "064e2cf2",
   "metadata": {},
   "outputs": [
    {
     "data": {
      "image/png": "[encoded data removed]",
      "text/plain": [
       "<Figure size 640x480 with 1 Axes>"
      ]
     },
     "metadata": {},
     "output_type": "display_data"
    }
   ],
   "source": [
    "sns.boxplot(x=heart.heart_disease, y=heart.trestbps)\n",
    "plt.show()"
   ]
  },
  {
   "cell_type": "code",
   "execution_count": 6,
   "id": "98843e4c",
   "metadata": {},
   "outputs": [
    {
     "name": "stdout",
     "output_type": "stream",
     "text": [
      "Resting blood pressure mean difference: 5.318345323740999\n",
      "Resting blood pressure median difference: 0.0\n"
     ]
    }
   ],
   "source": [
    "trestbps_hd = heart.trestbps[heart.heart_disease == 'presence']\n",
    "trestbps_no_hd = heart.trestbps[heart.heart_disease == 'absence']\n",
    "\n",
    "trestbps_mean_diff = np.mean(trestbps_hd) - np.mean(trestbps_no_hd)\n",
    "trestbps_median_diff = np.median(trestbps_hd) - np.median(trestbps_no_hd)\n",
    "print(\"Resting blood pressure mean difference: \" + str(trestbps_mean_diff))\n",
    "print(\"Resting blood pressure median difference: \" + str(trestbps_median_diff))"
   ]
  },
  {
   "cell_type": "code",
   "execution_count": 31,
   "id": "3b963778",
   "metadata": {},
   "outputs": [
    {
     "name": "stdout",
     "output_type": "stream",
     "text": [
      "P-value is 0.008548268928594928\n"
     ]
    }
   ],
   "source": [
    "tstat, pval = ttest_ind(trestbps_hd, trestbps_no_hd)\n",
    "print(\"P-value is \" + str(pval))"
   ]
  },
  {
   "cell_type": "markdown",
   "id": "215e6e7c",
   "metadata": {},
   "source": [
    "There is a __significant__ difference in average resting blood pressure for people with heart disease compared to people with no heart disease."
   ]
  },
  {
   "cell_type": "markdown",
   "id": "31087d53",
   "metadata": {},
   "source": [
    "Investigate the association between `chol` and `heart disease`"
   ]
  },
  {
   "cell_type": "code",
   "execution_count": 32,
   "id": "2acd595e",
   "metadata": {},
   "outputs": [
    {
     "data": {
      "image/png": "[encoded data removed]",
      "text/plain": [
       "<Figure size 640x480 with 1 Axes>"
      ]
     },
     "metadata": {},
     "output_type": "display_data"
    }
   ],
   "source": [
    "sns.boxplot(x=heart.heart_disease, y=heart.chol)\n",
    "plt.show()"
   ]
  },
  {
   "cell_type": "code",
   "execution_count": 33,
   "id": "766af740",
   "metadata": {},
   "outputs": [
    {
     "name": "stdout",
     "output_type": "stream",
     "text": [
      "Cholesterol mean difference: 8.834576241445887\n",
      "Cholesterol median difference: 14.5\n"
     ]
    }
   ],
   "source": [
    "chol_hd = heart.chol[heart.heart_disease == 'presence']\n",
    "chol_no_hd = heart.chol[heart.heart_disease == 'absence']\n",
    "\n",
    "chol_mean_diff = np.mean(chol_hd) - np.mean(chol_no_hd)\n",
    "chol_median_diff = np.median(chol_hd) - np.median(chol_no_hd)\n",
    "print(\"Cholesterol mean difference: \" + str(chol_mean_diff))\n",
    "print(\"Cholesterol median difference: \" + str(chol_median_diff))"
   ]
  },
  {
   "cell_type": "code",
   "execution_count": 34,
   "id": "34320710",
   "metadata": {},
   "outputs": [
    {
     "name": "stdout",
     "output_type": "stream",
     "text": [
      "P-value is 0.13914167020436527\n"
     ]
    }
   ],
   "source": [
    "tstat, pval = ttest_ind(chol_hd, chol_no_hd)\n",
    "print(\"P-value is \" + str(pval))"
   ]
  },
  {
   "cell_type": "markdown",
   "id": "eaff1234",
   "metadata": {},
   "source": [
    "There is a __no significant__ difference in average cholesterol for people with heart disease compared to people with no heart disease."
   ]
  },
  {
   "cell_type": "markdown",
   "id": "2900f10c",
   "metadata": {},
   "source": [
    "### Investigate the association between `thalach` and `heart disease`\n",
    "\n",
    "__Hypothesis testing:__\n",
    "- __Null:__ People with typical angina, non-anginal pain, atypical angina, and asymptomatic people all have the same average `thalach`.\n",
    "- __Alternative:__ People with typical angina, non-anginal pain, atypical angina, and asymptomatic people do not all have the same average `thalach`."
   ]
  },
  {
   "cell_type": "code",
   "execution_count": 35,
   "id": "48884adc",
   "metadata": {},
   "outputs": [
    {
     "data": {
      "image/png": "[encoded data removed]",
      "text/plain": [
       "<Figure size 640x480 with 1 Axes>"
      ]
     },
     "metadata": {},
     "output_type": "display_data"
    }
   ],
   "source": [
    "sns.boxplot(x=heart.cp, y=heart.thalach)\n",
    "plt.show()"
   ]
  },
  {
   "cell_type": "code",
   "execution_count": 36,
   "id": "d44c30b1",
   "metadata": {},
   "outputs": [
    {
     "name": "stdout",
     "output_type": "stream",
     "text": [
      "P-value is 1.9065505247705008e-10\n"
     ]
    }
   ],
   "source": [
    "thalach_typical = heart.thalach[heart.cp == 'typical angina']\n",
    "thalach_asymptom = heart.thalach[heart.cp == 'asymptomatic']\n",
    "thalach_nonangin = heart.thalach[heart.cp == 'non-anginal pain']\n",
    "thalach_atypical = heart.thalach[heart.cp == 'atypical angina']\n",
    "\n",
    "fstat, pval = f_oneway(thalach_typical, thalach_asymptom,thalach_nonangin,thalach_atypical)\n",
    "print(\"P-value is \" + str(pval))"
   ]
  },
  {
   "cell_type": "code",
   "execution_count": 41,
   "id": "a8146f9c",
   "metadata": {},
   "outputs": [
    {
     "name": "stdout",
     "output_type": "stream",
     "text": [
      "           Multiple Comparison of Means - Tukey HSD, FWER=0.05           \n",
      "=========================================================================\n",
      "     group1           group2      meandiff p-adj   lower    upper  reject\n",
      "-------------------------------------------------------------------------\n",
      "    asymptomatic  atypical angina  21.7394    0.0  12.7442 30.7347   True\n",
      "    asymptomatic non-anginal pain  14.7264    0.0   7.2583 22.1945   True\n",
      "    asymptomatic   typical angina   15.276 0.0081   2.9707 27.5812   True\n",
      " atypical angina non-anginal pain   -7.013 0.2481 -16.7587  2.7327  False\n",
      " atypical angina   typical angina  -6.4635 0.6213 -20.2702  7.3432  False\n",
      "non-anginal pain   typical angina   0.5495 0.9995 -12.3145 13.4136  False\n",
      "-------------------------------------------------------------------------\n"
     ]
    }
   ],
   "source": [
    "results = pairwise_tukeyhsd(endog=heart.thalach , groups=heart.cp)\n",
    "print(results)"
   ]
  },
  {
   "cell_type": "markdown",
   "id": "77583ea6",
   "metadata": {},
   "source": [
    "People who are asymptomatic has significantly lower maximum heart rate compared to the people who have typical angina, atypical angina and non-anginal pain."
   ]
  },
  {
   "cell_type": "code",
   "execution_count": 39,
   "id": "8bdafeb2",
   "metadata": {},
   "outputs": [
    {
     "data": {
      "text/html": [
       "<div>\n",
       "<style scoped>\n",
       "    .dataframe tbody tr th:only-of-type {\n",
       "        vertical-align: middle;\n",
       "    }\n",
       "\n",
       "    .dataframe tbody tr th {\n",
       "        vertical-align: top;\n",
       "    }\n",
       "\n",
       "    .dataframe thead th {\n",
       "        text-align: right;\n",
       "    }\n",
       "</style>\n",
       "<table border=\"1\" class=\"dataframe\">\n",
       "  <thead>\n",
       "    <tr style=\"text-align: right;\">\n",
       "      <th>heart_disease</th>\n",
       "      <th>absence</th>\n",
       "      <th>presence</th>\n",
       "    </tr>\n",
       "    <tr>\n",
       "      <th>cp</th>\n",
       "      <th></th>\n",
       "      <th></th>\n",
       "    </tr>\n",
       "  </thead>\n",
       "  <tbody>\n",
       "    <tr>\n",
       "      <th>asymptomatic</th>\n",
       "      <td>39</td>\n",
       "      <td>105</td>\n",
       "    </tr>\n",
       "    <tr>\n",
       "      <th>atypical angina</th>\n",
       "      <td>41</td>\n",
       "      <td>9</td>\n",
       "    </tr>\n",
       "    <tr>\n",
       "      <th>non-anginal pain</th>\n",
       "      <td>68</td>\n",
       "      <td>18</td>\n",
       "    </tr>\n",
       "    <tr>\n",
       "      <th>typical angina</th>\n",
       "      <td>16</td>\n",
       "      <td>7</td>\n",
       "    </tr>\n",
       "  </tbody>\n",
       "</table>\n",
       "</div>"
      ],
      "text/plain": [
       "heart_disease     absence  presence\n",
       "cp                                 \n",
       "asymptomatic           39       105\n",
       "atypical angina        41         9\n",
       "non-anginal pain       68        18\n",
       "typical angina         16         7"
      ]
     },
     "execution_count": 39,
     "metadata": {},
     "output_type": "execute_result"
    }
   ],
   "source": [
    "Xtab = pd.crosstab(heart.cp, heart.heart_disease)\n",
    "Xtab"
   ]
  },
  {
   "cell_type": "code",
   "execution_count": 42,
   "id": "d5487e37",
   "metadata": {},
   "outputs": [
    {
     "name": "stdout",
     "output_type": "stream",
     "text": [
      "P-value is 1.2517106007837527e-17\n"
     ]
    }
   ],
   "source": [
    "chi2, pval, dof, exp = chi2_contingency(Xtab)\n",
    "print(\"P-value is \" + str(pval))"
   ]
  },
  {
   "cell_type": "markdown",
   "id": "97a8b892",
   "metadata": {},
   "source": [
    "People with heart disease who are asymptomatic is __significantly different__ than people without the heart disease."
   ]
  },
  {
   "cell_type": "markdown",
   "id": "6a7dd69a",
   "metadata": {},
   "source": [
    "# Further Exploration\n",
    "\n",
    "### Investigate the association between `sex` and `heart disease`.\n",
    "\n",
    "__Hypothesis testing:__\n",
    "- __Null:__ There is no association between sex and whether or not someone is diagnosed with heart disease.\n",
    "- __Alternative:__ There is an association between sex and whether or not someone is diagnosed with heart disease."
   ]
  },
  {
   "cell_type": "code",
   "execution_count": 7,
   "id": "960a8814",
   "metadata": {},
   "outputs": [
    {
     "name": "stdout",
     "output_type": "stream",
     "text": [
      "heart_disease  absence  presence\n",
      "sex                             \n",
      "female              72        25\n",
      "male                92       114\n"
     ]
    }
   ],
   "source": [
    "sex_table = pd.crosstab(heart.sex, heart.heart_disease)\n",
    "print(sex_table)"
   ]
  },
  {
   "cell_type": "markdown",
   "id": "96b5ef28",
   "metadata": {},
   "source": [
    "Male tend to have heart disease compared to female"
   ]
  },
  {
   "cell_type": "code",
   "execution_count": 8,
   "id": "214ad36e",
   "metadata": {},
   "outputs": [
    {
     "name": "stdout",
     "output_type": "stream",
     "text": [
      "P-value is 2.666712348180942e-06\n"
     ]
    }
   ],
   "source": [
    "chi2, pval, dof, exp = chi2_contingency(sex_table)\n",
    "print(\"P-value is \" + str(pval))"
   ]
  },
  {
   "cell_type": "markdown",
   "id": "6a041f66",
   "metadata": {},
   "source": [
    "There is a __significant__ association between sex and whether or not someone is diagnosed with heart disease."
   ]
  },
  {
   "cell_type": "markdown",
   "id": "a550a006",
   "metadata": {},
   "source": [
    "### Investigate the association between whether the patient experiences exercise-induced angina and heart disease.\n",
    "\n",
    "__Hypothesis testing:__\n",
    "- __Null:__ There is no association between whether the patient experiences exercise-induced angina and whether or not someone is diagnosed with heart disease.\n",
    "- __Alternative:__ There is an association between whether the patient experiences exercise-induced angina and whether or not someone is diagnosed with heart disease."
   ]
  },
  {
   "cell_type": "code",
   "execution_count": 9,
   "id": "758858fa",
   "metadata": {},
   "outputs": [
    {
     "name": "stdout",
     "output_type": "stream",
     "text": [
      "heart_disease  absence  presence\n",
      "exang                           \n",
      "0.0                141        63\n",
      "1.0                 23        76\n"
     ]
    }
   ],
   "source": [
    "exercise_tab = pd.crosstab(heart.exang, heart.heart_disease)\n",
    "print(exercise_tab)"
   ]
  },
  {
   "cell_type": "markdown",
   "id": "6de523b8",
   "metadata": {},
   "source": [
    "People with heart disease tend to experience exercise-induced angina compared to people without heart disease."
   ]
  },
  {
   "cell_type": "code",
   "execution_count": 10,
   "id": "410058b4",
   "metadata": {},
   "outputs": [
    {
     "name": "stdout",
     "output_type": "stream",
     "text": [
      "P-value is 1.413788096718085e-13\n"
     ]
    }
   ],
   "source": [
    "chi2, pval, dof, exp = chi2_contingency(exercise_tab)\n",
    "print(\"P-value is \" + str(pval))"
   ]
  },
  {
   "cell_type": "markdown",
   "id": "598c90d9",
   "metadata": {},
   "source": [
    "There is a significant association between whether the patient experiences exercise-induced angina and whether or not someone is diagnosed with heart disease."
   ]
  },
  {
   "cell_type": "markdown",
   "id": "e0678107",
   "metadata": {},
   "source": [
    "### Investigate the association between patient's fasting blood sugar and heart disease.\n",
    "\n",
    "__Hypothesis testing:__\n",
    "- __Null:__ There is no association between the patient's fasting blood sugar and whether or not someone is diagnosed with heart disease.\n",
    "- __Alternative:__ There is an association between the patient's fasting blood sugar and whether or not someone is diagnosed with heart disease."
   ]
  },
  {
   "cell_type": "code",
   "execution_count": 11,
   "id": "004e7834",
   "metadata": {},
   "outputs": [
    {
     "name": "stdout",
     "output_type": "stream",
     "text": [
      "heart_disease  absence  presence\n",
      "fbs                             \n",
      "0.0                141       117\n",
      "1.0                 23        22\n"
     ]
    }
   ],
   "source": [
    "fbs_tab = pd.crosstab(heart.fbs, heart.heart_disease)\n",
    "print(fbs_tab)"
   ]
  },
  {
   "cell_type": "markdown",
   "id": "305356b0",
   "metadata": {},
   "source": [
    "People with and without heart disease tend to have fasting blood sugar less than 120 mg/dl."
   ]
  },
  {
   "cell_type": "code",
   "execution_count": 12,
   "id": "4498de69",
   "metadata": {},
   "outputs": [
    {
     "name": "stdout",
     "output_type": "stream",
     "text": [
      "P-value is 0.7812734067063785\n"
     ]
    }
   ],
   "source": [
    "chi2, pval, dof, exp = chi2_contingency(fbs_tab)\n",
    "print(\"P-value is \" + str(pval))"
   ]
  },
  {
   "cell_type": "markdown",
   "id": "ac8a01e4",
   "metadata": {},
   "source": [
    "There is no association between the patient's fasting blood sugar and whether or not someone is diagnosed with heart disease."
   ]
  }
 ],
 "metadata": {
  "kernelspec": {
   "display_name": "Python 3 (ipykernel)",
   "language": "python",
   "name": "python3"
  },
  "language_info": {
   "codemirror_mode": {
    "name": "ipython",
    "version": 3
   },
   "file_extension": ".py",
   "mimetype": "text/x-python",
   "name": "python",
   "nbconvert_exporter": "python",
   "pygments_lexer": "ipython3",
   "version": "3.10.9"
  }
 },
 "nbformat": 4,
 "nbformat_minor": 5
}
